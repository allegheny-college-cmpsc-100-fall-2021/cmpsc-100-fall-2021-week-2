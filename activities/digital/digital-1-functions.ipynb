{
 "cells": [
  {
   "cell_type": "markdown",
   "id": "942e591c-2c36-4197-86fa-4e64b7fe2f78",
   "metadata": {},
   "source": [
    "# Digital Activity 1: `function`s\n",
    "\n",
    "As we've seen, `function`s have _some_ use, though we may not yet be entirely sure about why they're so useful. To figure this out, we're going to look at some work we've already done to get us started. Consider our number trick from last week:\n",
    "\n",
    "```python\n",
    "original_number = int(response)\n",
    "working_number = original_number - 1\n",
    "working_number *= 3\n",
    "working_number += 12\n",
    "working_number /= 3\n",
    "working_number += 5\n",
    "working_number -= original_number\n",
    "print(int(working_number))\n",
    "```\n",
    "\n",
    "If we're only doing the trick one time, great. However, let's consider what happens when we want to show it _five_ times:\n",
    "\n",
    "```python\n",
    "# Attempt 1\n",
    "original_number = int(response)\n",
    "working_number = original_number - 1\n",
    "working_number *= 3\n",
    "working_number += 12\n",
    "working_number /= 3\n",
    "working_number += 5\n",
    "working_number -= original_number\n",
    "print(int(working_number))\n",
    "# Attempt 2\n",
    "original_number = int(response)\n",
    "working_number = original_number - 1\n",
    "working_number *= 3\n",
    "working_number += 12\n",
    "working_number /= 3\n",
    "working_number += 5\n",
    "working_number -= original_number\n",
    "print(int(working_number))\n",
    "# ...\n",
    "```\n",
    "\n",
    "You might be able to guess that this escalates quickly when we need to repeat something that is essentially the same every time we do it. Here, we might consider a `function` which represents it. How could we do it?"
   ]
  },
  {
   "cell_type": "code",
   "execution_count": 1,
   "id": "3df5c45e-b6a9-4558-b5f5-f758de4fb35a",
   "metadata": {},
   "outputs": [],
   "source": [
    "# TODO"
   ]
  },
  {
   "cell_type": "markdown",
   "id": "13f5a3f8-c1bd-48f5-930f-b0e90c2d7ff9",
   "metadata": {},
   "source": [
    "Much easier to duplicate it. But, alas, we're not always doing magical mathematics tricks -- usually we're trying to do something much more practical. \n",
    "\n",
    "## Taking the temperature of the room\n",
    "\n",
    "For example, folks in the U.S. are constantly using the _wrong_ temperature scale (don't `@` me; this is a fact).\n",
    "\n",
    "The majority of the rest of the world (i.e. everyone else) uses the Celsius scale. It's just better. So, as a service to ourselves, and to practice `function`s, your first challenge is to write a converter that:\n",
    "\n",
    "* takes user input of a number in Farenheit\n",
    "* returns that number in terms of the Celsius scale\n",
    "\n",
    "Keep in mind that the traditional way to do this is:\n",
    "\n",
    "$$F = \\frac{9}{5} (C + 32) $$\n",
    "\n",
    "Deriving this backward, we understand:\n",
    "\n",
    "$$C = \\frac{5}{9} (F - 32) $$\n",
    "\n",
    "This should be:\n",
    "\n",
    "1. A function titled `celsius` which\n",
    "2. Is _productive_ (i.e. has a `return`)\n",
    "3. Implements _rounding_ using the function `round()`:\n",
    "  * This function takes `2` parameters:\n",
    "    * the number to be rounded\n",
    "    * the number of digits to round to\n",
    "      * here, use 1 digit\n",
    "\n",
    "Try:\n",
    "\n",
    "  * today's temperature\n",
    "  * last week's average\n",
    "  * tommorrow's forecast"
   ]
  },
  {
   "cell_type": "code",
   "execution_count": 33,
   "id": "8e55e562-2ec0-49fd-8f38-f6fa5e95056a",
   "metadata": {},
   "outputs": [
    {
     "name": "stdin",
     "output_type": "stream",
     "text": [
      "Today's temperature:  32\n"
     ]
    },
    {
     "name": "stdout",
     "output_type": "stream",
     "text": [
      "Today's correct temperature is: 0.0 °C\n"
     ]
    }
   ],
   "source": [
    "# TODO: Define celsius function\n",
    "\n",
    "temp = int(input(\"Today's temperature: \"))\n",
    "temp = celsius(temp)\n",
    "print(f\"Today's correct temperature is: {temp} °C\")"
   ]
  },
  {
   "cell_type": "markdown",
   "id": "963d7211-05f8-47f1-a70d-777adfc7be89",
   "metadata": {},
   "source": [
    "## The Piano Tuner problem\n",
    "\n",
    "Of course, I can't _possibly_ end on a practical note -- that's just plain boring. So, I leave you with another challenge: Enrico Fermi's \"Piano Tuner\" problem.\n",
    "\n",
    "You see, Fermi was an interesting fellow. He prized a practice called \"rapid estimation\" in which he'd often ask his students to solve seemingly improbable shorthand problems. One of his favorites was to ask students to estimate the number of piano tuners in Chicago. Except, yinz know we're going to try a few cities in Western PA n'at.\n",
    "\n",
    "Assume the following:\n",
    "\n",
    "* 1 in 10 families own a piano\n",
    "  * This is, however, debatable, actually\n",
    "* The average size of a familiy hovers just above `3`, nationally\n",
    "* A normal piano tuner is a reasonable person, they:\n",
    "  * tune `4` pianos a day during the week\n",
    "  * keep a `5` day work week\n",
    "  * take the equivalent of `2` weeks off in a year\n",
    "\n",
    "The cities we'll try out:\n",
    "\n",
    "|City |Population |\n",
    "|:----|:----------|\n",
    "|Pittsburgh |300,000 |\n",
    "|Erie       |94,000 |\n",
    "|Meadville |13,000 |\n",
    "\n",
    "Round your answer to the nearest whole number (here that means using `round()` and `int()` together).\n",
    "\n",
    "* naming your function `estimate_piano_tuners`, a function which:\n",
    "  * takes `1` parameter, the population\n",
    "* trying all three scenarios"
   ]
  },
  {
   "cell_type": "code",
   "execution_count": 32,
   "id": "0e51dacb-0a80-4769-bb0d-d3b6cda24ada",
   "metadata": {},
   "outputs": [
    {
     "name": "stdout",
     "output_type": "stream",
     "text": [
      "Pittsburgh: 60\n",
      "Erie: 19\n",
      "Meadville: 3\n"
     ]
    }
   ],
   "source": [
    "# TODO: Define estimate_piano_tuners function\n",
    "\n",
    "# Pittsburgh\n",
    "print(f\"Pittsburgh: {estimate_piano_tuners(300000)}\")\n",
    "\n",
    "# Erie\n",
    "print(f\"Erie: {estimate_piano_tuners(94000)}\")\n",
    "\n",
    "# Meadville\n",
    "print(f\"Meadville: {estimate_piano_tuners(13000)}\")"
   ]
  },
  {
   "cell_type": "markdown",
   "id": "2f44890c-4bbd-4b4d-b459-90af773a8c16",
   "metadata": {},
   "source": [
    "## Finishing this activity\n",
    "\n",
    "Port your Piano Tuner solution over to [digital-1-functions.py](digital-1-functions.py) to finish! In this file you should:\n",
    "\n",
    "* allow users to enter a population\n",
    "* use at least `3` single line comments\n",
    "* follow directives for variable and function naming\n",
    "\n",
    "### A note\n",
    "\n",
    "You'll start to notice that files will contain this:\n",
    "\n",
    "```python\n",
    "def main():\n",
    "    # ...\n",
    "\n",
    "if __name__ == \"__main__\":\n",
    "    main()\n",
    "```\n",
    "\n",
    "Technically speaking, this is _proper_ Python. To accommodate this, start to put your functionality in the `main` function and write other functions _outside of it_:\n",
    "\n",
    "```python\n",
    "def my_new_function(paramter):\n",
    "    # ...\n",
    "\n",
    "def main():\n",
    "    my_new_function(argument)\n",
    " \n",
    "if __name__ == \"__main__\":\n",
    "    main()\n",
    "```"
   ]
  }
 ],
 "metadata": {
  "kernelspec": {
   "display_name": "Python 3",
   "language": "python",
   "name": "python3"
  },
  "language_info": {
   "codemirror_mode": {
    "name": "ipython",
    "version": 3
   },
   "file_extension": ".py",
   "mimetype": "text/x-python",
   "name": "python",
   "nbconvert_exporter": "python",
   "pygments_lexer": "ipython3",
   "version": "3.8.10"
  }
 },
 "nbformat": 4,
 "nbformat_minor": 5
}
